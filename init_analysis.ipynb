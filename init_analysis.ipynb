{
 "cells": [
  {
   "cell_type": "code",
   "execution_count": 346,
   "id": "0b993749",
   "metadata": {},
   "outputs": [],
   "source": [
    "import pandas as pd\n",
    "import numpy as np\n",
    "import matplotlib.pyplot as plt\n",
    "from matplotlib_venn import venn3\n",
    "from sklearn import svm\n",
    "from sklearn.linear_model import Lasso, LogisticRegression\n",
    "from sklearn.preprocessing import normalize\n",
    "from sklearn.model_selection import cross_val_score\n",
    "from sklearn.feature_selection import RFE\n",
    "from sklearn.ensemble import GradientBoostingClassifier"
   ]
  },
  {
   "cell_type": "code",
   "execution_count": 316,
   "id": "9d14dbdc",
   "metadata": {},
   "outputs": [],
   "source": [
    "# load all datasets\n",
    "allRNA = pd.read_csv(\"data/200625_allRNA_fromRNAseq_annot_hg38.tsv\", sep=\"\\t\")\n",
    "circRNA = pd.read_csv(\"data/200625_circRNA_fromRNAseq_annot_hg19.tsv\", sep=\"\\t\")\n",
    "circRNA.fillna(0, inplace = True)\n",
    "miRNA = pd.read_excel(\"data/final_all_samples_miRNA_seq.xlsx\")\n",
    "piRNA = pd.read_excel(\"data/piRNA_counts.xlsx\")\n",
    "TE = pd.read_csv(\"data/TE_counts.csv\")\n",
    "annot = pd.read_excel(\"data/sample sheet for CVUT.xlsx\")"
   ]
  },
  {
   "cell_type": "code",
   "execution_count": 317,
   "id": "9437721c",
   "metadata": {},
   "outputs": [],
   "source": [
    "# modifying column names so that they only contain patient ID\n",
    "# annotation file -> modifying row values\n",
    "id_allRNA = [i.split(\"_\")[0] for i in allRNA.columns[6:]]\n",
    "id_circRNA = [i.split(\"_\")[0] for i in circRNA.columns[9:]]\n",
    "id_miRNA = [i.split(\"_\")[0] for i in miRNA.columns[1:]]\n",
    "id_piRNA = [i.split(\"_\")[0] for i in piRNA.columns[1:]]\n",
    "id_TE = [i.split(\"_\")[0] for i in TE.columns[1:]]\n",
    "id_annot = [i.split(\"_\")[0] for i in annot.SAMPLE_NAME]\n",
    "\n",
    "for i in range(len(id_allRNA)):\n",
    "    allRNA.rename(columns = {allRNA.columns[i+6]: id_allRNA[i]}, inplace = True)\n",
    "for i in range(len(id_circRNA)):\n",
    "    circRNA.rename(columns = {circRNA.columns[i+9]: id_circRNA[i]}, inplace = True)\n",
    "for i in range(len(id_miRNA)):\n",
    "    miRNA.rename(columns = {miRNA.columns[i+1]: id_miRNA[i]}, inplace = True)\n",
    "for i in range(len(id_piRNA)):\n",
    "    piRNA.rename(columns = {piRNA.columns[i+1]: id_piRNA[i]}, inplace = True)\n",
    "for i in range(len(id_TE)):\n",
    "    TE.rename(columns = {TE.columns[i+1]: id_TE[i]}, inplace = True)\n",
    "annot.SAMPLE_NAME = id_annot"
   ]
  },
  {
   "cell_type": "code",
   "execution_count": 344,
   "id": "0c73b7a1",
   "metadata": {},
   "outputs": [
    {
     "name": "stdout",
     "output_type": "stream",
     "text": [
      "Number of IDs in each dataset:\n",
      "\n",
      "annot: 98\n",
      "allRNA: 86\n",
      "circRNA: 86\n",
      "miRNA: 105\n",
      "piRNA: 104\n",
      "TE: 112\n"
     ]
    }
   ],
   "source": [
    "print(\"Number of IDs in each dataset:\\n\")\n",
    "for ds, name in zip((id_annot, id_allRNA, id_circRNA, id_miRNA, id_piRNA, id_TE),\n",
    "                    (\"annot\", \"allRNA\", \"circRNA\", \"miRNA\", \"piRNA\", \"TE\")):\n",
    "    print(f\"{name}: {len(ds)}\")"
   ]
  },
  {
   "cell_type": "code",
   "execution_count": 342,
   "id": "b8fede11",
   "metadata": {},
   "outputs": [
    {
     "name": "stdout",
     "output_type": "stream",
     "text": [
      "Number of common IDs between annotation file and each dataset:\n",
      "\n",
      "allRNA: 75\n",
      "circRNA: 75\n",
      "miRNA: 85\n",
      "piRNA: 85\n",
      "TE: 97\n"
     ]
    }
   ],
   "source": [
    "print(\"Number of common IDs between annotation file and each dataset:\\n\")\n",
    "for ds, name in zip((id_allRNA, id_circRNA, id_miRNA, id_piRNA, id_TE),\n",
    "                    (\"allRNA\", \"circRNA\", \"miRNA\", \"piRNA\", \"TE\")):\n",
    "    common = 0\n",
    "    for i in list(annot.SAMPLE_NAME):\n",
    "        if i in ds:\n",
    "            common += 1\n",
    "    print(f\"{name}: {common}\")"
   ]
  },
  {
   "cell_type": "code",
   "execution_count": 318,
   "id": "9024103c",
   "metadata": {},
   "outputs": [
    {
     "name": "stdout",
     "output_type": "stream",
     "text": [
      "Number of IDs with complete data:  66\n"
     ]
    }
   ],
   "source": [
    "# creating a list of all IDs that are present in all datasets\n",
    "complete_id = []  # list of tuples [(id1_allRNA, id1_miRNA, id1_piRNA, id1_TE), (id2...)]\n",
    "for i in id_allRNA:\n",
    "    if i in id_miRNA and i in id_piRNA and i in id_circRNA and i in list(annot.SAMPLE_NAME):\n",
    "        complete_id.append(i)\n",
    "print(\"Number of IDs with complete data: \", str(len(complete_id)))"
   ]
  },
  {
   "cell_type": "code",
   "execution_count": 319,
   "id": "55feb744",
   "metadata": {},
   "outputs": [],
   "source": [
    "# data concatenation into final dataset\n",
    "# row = id, column = feature\n",
    "# last 3 rows are target values\n",
    "complete_data = np.zeros((len(complete_id), allRNA.shape[0]+circRNA.shape[0]+miRNA.shape[0]+piRNA.shape[0]+TE.shape[0] + 3))\n",
    "for i, p in enumerate(complete_id):\n",
    "    allRNA_data = allRNA[p].to_numpy()\n",
    "    circRNA_data = circRNA[p].to_numpy()\n",
    "    miRNA_data = miRNA[p].to_numpy()\n",
    "    piRNA_data = piRNA[p].to_numpy()\n",
    "    TE_data = TE[p].to_numpy()\n",
    "    annot_data = annot.loc[annot['SAMPLE_NAME'] == complete_id[i]]\n",
    "    annot_data = annot_data.iloc[:, 2:5].to_numpy()[0]\n",
    "    row = np.concatenate((allRNA_data, circRNA_data, miRNA_data, piRNA_data, TE_data, annot_data))\n",
    "    complete_data[i, :] = row"
   ]
  },
  {
   "cell_type": "code",
   "execution_count": 320,
   "id": "b0d4ac0d",
   "metadata": {},
   "outputs": [],
   "source": [
    "# divide into features and target\n",
    "X = complete_data[:, :-3]\n",
    "XN = normalize(X, axis = 0)\n",
    "Y_disease = complete_data[:, -3]\n",
    "Y_risk = complete_data[:, -2]\n",
    "Y_mutation = complete_data[:, -1]"
   ]
  },
  {
   "cell_type": "code",
   "execution_count": 294,
   "id": "3b66c0c7",
   "metadata": {},
   "outputs": [],
   "source": [
    "# linear model with L1 regularization\n",
    "# LM = Lasso(alpha = 5.0, tol = 0.005)  # proves to be useless\n",
    "C_vals = [200, 500, 800, 1000]"
   ]
  },
  {
   "cell_type": "code",
   "execution_count": 295,
   "id": "5dca9e4e",
   "metadata": {},
   "outputs": [],
   "source": [
    "LR_CVscores_disease = []\n",
    "LR_CVscores_risk = []\n",
    "LR_CVscores_mutation = []\n",
    "\n",
    "for i, c in enumerate(C_vals):\n",
    "    LR = LogisticRegression(penalty = \"l1\", C = c, tol = 0.01, solver = \"saga\")\n",
    "    LR_CVscores_disease.append(cross_val_score(LR, XN, Y_disease, cv = 6))\n",
    "    LR_CVscores_risk.append(cross_val_score(LR, XN, Y_risk, cv = 6))\n",
    "    LR_CVscores_mutation.append(cross_val_score(LR, XN, Y_mutation, cv = 6))"
   ]
  },
  {
   "cell_type": "code",
   "execution_count": 304,
   "id": "aa919972",
   "metadata": {},
   "outputs": [
    {
     "name": "stdout",
     "output_type": "stream",
     "text": [
      "Accuracy - LogReg:\n",
      "\n",
      "C = 200\n",
      "Disease: 0.89 +/- 0.034\n",
      "Risk: 0.58 +/- 0.15\n",
      "Mutation: 0.62 +/- 0.034\n",
      "C = 500\n",
      "Disease: 0.89 +/- 0.034\n",
      "Risk: 0.58 +/- 0.15\n",
      "Mutation: 0.62 +/- 0.034\n",
      "C = 800\n",
      "Disease: 0.89 +/- 0.034\n",
      "Risk: 0.58 +/- 0.15\n",
      "Mutation: 0.62 +/- 0.034\n",
      "C = 1000\n",
      "Disease: 0.89 +/- 0.034\n",
      "Risk: 0.58 +/- 0.15\n",
      "Mutation: 0.62 +/- 0.034\n"
     ]
    }
   ],
   "source": [
    "print(\"Accuracy - LogReg:\\n\")\n",
    "for i, c in enumerate(C_vals):\n",
    "    print(\"C =\", str(c))\n",
    "    print(f\"Disease: {np.mean(LR_CVscores_disease[i]):.2} +/- {np.std(LR_CVscores_disease[i]):.2}\")\n",
    "    print(f\"Risk: {np.mean(LR_CVscores_risk[i]):.2} +/- {np.std(LR_CVscores_risk[i]):.2}\")\n",
    "    print(f\"Mutation: {np.mean(LR_CVscores_mutation[i]):.2} +/- {np.std(LR_CVscores_mutation[i]):.2}\")"
   ]
  },
  {
   "cell_type": "code",
   "execution_count": 297,
   "id": "4c741952",
   "metadata": {},
   "outputs": [],
   "source": [
    "SVM_CVscores_disease = []\n",
    "SVM_CVscores_risk = []\n",
    "SVM_CVscores_mutation = []\n",
    "n_select = [5, 10, 20, 100]"
   ]
  },
  {
   "cell_type": "code",
   "execution_count": 300,
   "id": "7c3b642a",
   "metadata": {},
   "outputs": [],
   "source": [
    "SVM = svm.SVC(kernel = \"linear\", C = 1.0)\n",
    "for n in n_select:\n",
    "    selector = RFE(SVM, n_features_to_select = n, step = 500)\n",
    "    selector = selector.fit(XN, Y_disease)\n",
    "    selected = np.where(selector.support_ == True)[0]\n",
    "    XN_selected = XN[:, selected]\n",
    "    SVM_CVscores_disease.append(cross_val_score(SVM, XN_selected, Y_disease, cv = 6))\n",
    "    selector = selector.fit(XN, Y_risk)\n",
    "    selected = np.where(selector.support_ == True)[0]\n",
    "    XN_selected = XN[:, selected]\n",
    "    SVM_CVscores_risk.append(cross_val_score(SVM, XN_selected, Y_risk, cv = 6))\n",
    "    selector = selector.fit(XN, Y_mutation)\n",
    "    selected = np.where(selector.support_ == True)[0]\n",
    "    XN_selected = XN[:, selected]\n",
    "    SVM_CVscores_mutation.append(cross_val_score(SVM, XN_selected, Y_mutation, cv = 6))"
   ]
  },
  {
   "cell_type": "code",
   "execution_count": 305,
   "id": "312ab8d9",
   "metadata": {},
   "outputs": [
    {
     "name": "stdout",
     "output_type": "stream",
     "text": [
      "Accuracy - SVM:\n",
      "\n",
      "N = 5\n",
      "Disease: 0.92 +/- 0.034\n",
      "Risk: 0.44 +/- 0.062\n",
      "Mutation: 0.62 +/- 0.034\n",
      "N = 10\n",
      "Disease: 0.92 +/- 0.034\n",
      "Risk: 0.52 +/- 0.043\n",
      "Mutation: 0.67 +/- 0.068\n",
      "N = 20\n",
      "Disease: 0.92 +/- 0.034\n",
      "Risk: 0.67 +/- 0.068\n",
      "Mutation: 0.7 +/- 0.068\n",
      "N = 100\n",
      "Disease: 0.94 +/- 0.043\n",
      "Risk: 0.89 +/- 0.082\n",
      "Mutation: 0.82 +/- 0.074\n"
     ]
    }
   ],
   "source": [
    "print(\"Accuracy - SVM:\\n\")\n",
    "for i, n in enumerate(n_select):\n",
    "    print(\"N =\", str(n))\n",
    "    print(f\"Disease: {np.mean(SVM_CVscores_disease[i]):.2} +/- {np.std(SVM_CVscores_disease[i]):.2}\")\n",
    "    print(f\"Risk: {np.mean(SVM_CVscores_risk[i]):.2} +/- {np.std(SVM_CVscores_risk[i]):.2}\")\n",
    "    print(f\"Mutation: {np.mean(SVM_CVscores_mutation[i]):.2} +/- {np.std(SVM_CVscores_mutation[i]):.2}\")"
   ]
  },
  {
   "cell_type": "code",
   "execution_count": 312,
   "id": "de62cb50",
   "metadata": {},
   "outputs": [],
   "source": [
    "XGB = GradientBoostingClassifier(max_depth = 8, learning_rate = 1.0)"
   ]
  },
  {
   "cell_type": "code",
   "execution_count": 313,
   "id": "ec5edbba",
   "metadata": {},
   "outputs": [],
   "source": [
    "XGB_CVscores_disease = []\n",
    "XGB_CVscores_risk = []\n",
    "XGB_CVscores_mutation = []\n",
    "\n",
    "for n in n_select:\n",
    "    XGB.fit(XN, Y_disease)\n",
    "    idx = np.argpartition(XGB.feature_importances_, -n)[-n:]\n",
    "    XN_selected = XN[:, idx]\n",
    "    XGB_CVscores_disease.append(cross_val_score(XGB, XN_selected, Y_disease, cv = 6))\n",
    "    XGB.fit(XN, Y_risk)\n",
    "    idx = np.argpartition(XGB.feature_importances_, -n)[-n:]\n",
    "    XN_selected = XN[:, idx]\n",
    "    XGB_CVscores_risk.append(cross_val_score(XGB, XN_selected, Y_risk, cv = 6))\n",
    "    XGB.fit(XN, Y_mutation)\n",
    "    idx = np.argpartition(XGB.feature_importances_, -n)[-n:]\n",
    "    XN_selected = XN[:, idx]\n",
    "    XGB_CVscores_mutation.append(cross_val_score(XGB, XN_selected, Y_mutation, cv = 6))"
   ]
  },
  {
   "cell_type": "code",
   "execution_count": 314,
   "id": "520cfaf8",
   "metadata": {},
   "outputs": [
    {
     "name": "stdout",
     "output_type": "stream",
     "text": [
      "Accuracy - XGB:\n",
      "\n",
      "N = 5\n",
      "Disease: 0.95 +/- 0.045\n",
      "Risk: 0.8 +/- 0.082\n",
      "Mutation: 0.8 +/- 0.082\n",
      "N = 10\n",
      "Disease: 0.98 +/- 0.034\n",
      "Risk: 0.85 +/- 0.11\n",
      "Mutation: 0.89 +/- 0.082\n",
      "N = 20\n",
      "Disease: 0.98 +/- 0.034\n",
      "Risk: 0.86 +/- 0.087\n",
      "Mutation: 0.89 +/- 0.082\n",
      "N = 100\n",
      "Disease: 0.97 +/- 0.043\n",
      "Risk: 0.76 +/- 0.086\n",
      "Mutation: 0.88 +/- 0.11\n"
     ]
    }
   ],
   "source": [
    "print(\"Accuracy - XGB:\\n\")\n",
    "for i, n in enumerate(n_select):\n",
    "    print(\"N =\", str(n))\n",
    "    print(f\"Disease: {np.mean(XGB_CVscores_disease[i]):.2} +/- {np.std(XGB_CVscores_disease[i]):.2}\")\n",
    "    print(f\"Risk: {np.mean(XGB_CVscores_risk[i]):.2} +/- {np.std(XGB_CVscores_risk[i]):.2}\")\n",
    "    print(f\"Mutation: {np.mean(XGB_CVscores_mutation[i]):.2} +/- {np.std(XGB_CVscores_mutation[i]):.2}\")"
   ]
  },
  {
   "cell_type": "markdown",
   "id": "d9b2e251",
   "metadata": {},
   "source": [
    "ROC/PR\n",
    "lednotlive datasety - contribution\n",
    "framework zlepsit\n",
    "MOGONET trial,\n",
    "zalozit github"
   ]
  }
 ],
 "metadata": {
  "kernelspec": {
   "display_name": "Python 3 (ipykernel)",
   "language": "python",
   "name": "python3"
  },
  "language_info": {
   "codemirror_mode": {
    "name": "ipython",
    "version": 3
   },
   "file_extension": ".py",
   "mimetype": "text/x-python",
   "name": "python",
   "nbconvert_exporter": "python",
   "pygments_lexer": "ipython3",
   "version": "3.10.6"
  }
 },
 "nbformat": 4,
 "nbformat_minor": 5
}
